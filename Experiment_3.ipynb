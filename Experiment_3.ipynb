{
 "cells": [
  {
   "cell_type": "code",
   "execution_count": 442,
   "metadata": {},
   "outputs": [],
   "source": [
    "import numpy as np\n",
    "import pandas as pd\n",
    "import random, sys, time, copy\n",
    "import time\n",
    "random.seed(10)"
   ]
  },
  {
   "cell_type": "code",
   "execution_count": 443,
   "metadata": {},
   "outputs": [],
   "source": [
    "#Graph code\n",
    "class Graph:\n",
    "    def __init__(self, n, alpha):\n",
    "        self.exps, self.pages, self.ints = n\n",
    "        self.map = np.zeros(n)\n",
    "        self.alpha = alpha\n",
    "        \n",
    "        for exp in range(0,self.exps):\n",
    "            for page in range(0,self.pages):\n",
    "                data = list((range(0, self.ints)))\n",
    "                np.random.shuffle(data)\n",
    "                self.map[exp,page] = data\n",
    "        \n",
    "        self.trail = np.full(n,self.alpha) #Initialize pheromone on trail\n",
    "        self.ev = np.random.randint(1,50,n)  #Random generate engagement values\n",
    "    \n",
    "    def calc_score(self, exp, page, interaction):\n",
    "        ev = self.ev[exp][page][interaction]\n",
    "        pheromone = self.trail[exp][page][interaction]       \n",
    "        return ev,pheromone\n",
    "    \n",
    "    def get_pheromone_page(self, exp, page):\n",
    "        return self.trail[exp][page]\n",
    "        \n",
    "    def calc_affinity_score(self, exp, page, interaction):\n",
    "        return self.ev[exp][page][interaction]"
   ]
  },
  {
   "cell_type": "code",
   "execution_count": 444,
   "metadata": {},
   "outputs": [],
   "source": [
    "#ACO code\n",
    "class ant:\n",
    "    def __init__(self, graph):\n",
    "        self.graph = graph\n",
    "        self.map = graph.map\n",
    "        self.trail = graph.trail\n",
    "        self.score_list = []\n",
    "        self.routelist = []\n",
    "        self.exps = []\n",
    "        self.total_score = 0\n",
    "        self.pheromone_list = []\n",
    "        \n",
    "    def get_trail(self,map,random_prob):\n",
    "        pages_score = 0\n",
    "        pheromones = 0\n",
    "        exp = random.randint(0,self.graph.exps-1) #Random experience will be pick\n",
    "        route = []\n",
    "        for page in range(self.graph.pages):\n",
    "            if random.random()>(1-random_prob): #Determine whether go to a random route or the pheromone route\n",
    "                interaction = random.randint(0,self.graph.map[exp][page].size-1)\n",
    "            else:\n",
    "                pheromone_page = self.graph.get_pheromone_page(exp,page)\n",
    "                max_index = np.where(pheromone_page == max(pheromone_page))[0] #Get the interaction index with most pheromone deposited\n",
    "                interaction = np.random.choice(max_index)\n",
    "\n",
    "            score,pheromone = self.graph.calc_score(exp,page,interaction)\n",
    "            pages_score += score\n",
    "            pheromones += pheromone\n",
    "            route.append(interaction)\n",
    "        self.score_list.append(pages_score)\n",
    "        self.pheromone_list.append(pheromones)\n",
    "        self.routelist.append(route)\n",
    "        self.exps.append(exp)\n",
    "        self.total_score += pages_score\n",
    "            \n",
    "        return list(zip(self.exps, self.routelist, self.score_list, self.pheromone_list))\n",
    "\n",
    "    \n",
    "    def update_trail(self, routes):\n",
    "        route_scores = np.array(routes)[:,2]    \n",
    "        top1 = np.sort(route_scores)[-1:] #Get the top1 score\n",
    "\n",
    "        for route in routes:\n",
    "            exp,path,score,pheromone = route\n",
    "            for idx, interaction in enumerate(path): \n",
    "                if(np.isin(score,top1)): #Update the pheromone trail with top1 score only\n",
    "                    self.graph.trail[exp][idx][interaction] += (score / self.total_score)*0.1\n",
    "        return\n",
    "    "
   ]
  },
  {
   "cell_type": "code",
   "execution_count": 445,
   "metadata": {},
   "outputs": [],
   "source": [
    "class colony:\n",
    "    def __init__(self, graph, iterations, pop, best_score,random_prob):\n",
    "        self.graph = graph\n",
    "        self.pop = pop\n",
    "        self.ants = []\n",
    "        self.best_route = []\n",
    "        self.best_score = best_score\n",
    "        self.best_experience = 0\n",
    "        self.iterations = iterations\n",
    "        self.best_pheromone = 0\n",
    "        self.random_prob = random_prob\n",
    "   \n",
    "        for i in range(0,pop):\n",
    "            new_ant = ant(graph)\n",
    "            self.ants.append(new_ant)\n",
    "        \n",
    "    def run(self):\n",
    "        count = 0\n",
    "        self.graph.trail = self.graph.trail / 2\n",
    "        for iteration in range(self.iterations):\n",
    "            for ant in self.ants:\n",
    "                result = ant.get_trail(self.graph.map,random_prob)\n",
    "                ant.update_trail(result)\n",
    "\n",
    "                index = np.argmax(np.array(result)[:,2]) #Retrieve the index from highest score trail\n",
    "                exp,route,score,pheromone = np.array(result)[index]  \n",
    "            \n",
    "                if score > self.best_score:\n",
    "                    self.best_score = score\n",
    "                    self.best_route = route\n",
    "                    self.best_experience = exp\n",
    "                    self.best_pheromone = pheromone/(self.iterations*self.pop) #average pheromone increased for each loop in this trail\n",
    "                if score == self.best_score:\n",
    "                    count+=1\n",
    "            \n",
    "        print (\"best exp,route,score,pheromone: \", self.best_experience, self.best_route, self.best_score, self.best_pheromone)\n",
    "        print (\"route best match count: \", count)"
   ]
  },
  {
   "cell_type": "code",
   "execution_count": 446,
   "metadata": {},
   "outputs": [],
   "source": [
    "initial_pheromone = 0.01\n",
    "experiences = 1 #Personalization Experience count\n",
    "web_pages = 10 #Web pages count\n",
    "interactions = 10 #Interaction count\n",
    "iterations = 50\n",
    "populations = 300\n",
    "best_score = 100\n",
    "graph = Graph([experiences,web_pages,interactions],initial_pheromone) #Using one graph only"
   ]
  },
  {
   "cell_type": "code",
   "execution_count": 447,
   "metadata": {},
   "outputs": [
    {
     "name": "stdout",
     "output_type": "stream",
     "text": [
      "best exp,route,score,pheremone:  0 [6, 0, 7, 1, 8, 0, 8, 8, 2, 5] 430 0.02255543621692587\n",
      "route best match count:  60\n",
      "--- 55.14320492744446 seconds ---\n"
     ]
    }
   ],
   "source": [
    "#Algorithm 2 (ACO) (f=0.5)\n",
    "start_time = time.time()\n",
    "random_prob = 0.5\n",
    "new_colony = colony(graph,iterations,populations,best_score,random_prob)\n",
    "new_colony.run()\n",
    "print(\"--- %s seconds ---\" % (time.time() - start_time))"
   ]
  },
  {
   "cell_type": "code",
   "execution_count": 448,
   "metadata": {},
   "outputs": [
    {
     "name": "stdout",
     "output_type": "stream",
     "text": [
      "best exp,route,score,pheremone:  0 [6, 2, 7, 9, 8, 0, 4, 2, 0, 1] 400 0.024701272586079456\n",
      "route best match count:  54\n",
      "--- 55.146278858184814 seconds ---\n"
     ]
    }
   ],
   "source": [
    "#Algorithm 2 (ACO) (f=1.0)\n",
    "start_time = time.time()\n",
    "random_prob = 1\n",
    "new_colony = colony(graph,iterations,populations,best_score,random_prob)\n",
    "new_colony.run()\n",
    "print(\"--- %s seconds ---\" % (time.time() - start_time))"
   ]
  },
  {
   "cell_type": "code",
   "execution_count": 449,
   "metadata": {},
   "outputs": [],
   "source": [
    "#AIS code\n",
    "class bcell:\n",
    "    def __init__(self, graph, max_affinity):\n",
    "        self.graph = graph\n",
    "        self.map = graph.map\n",
    "        self.max_affinity = max_affinity\n",
    "        self.current_affinity =0\n",
    "        self.exp = 0\n",
    "        self.current_path = self.new_path()\n",
    "    \n",
    "    def new_path(self):\n",
    "        pages_score = 0\n",
    "        self.exp = random.randint(0,self.graph.exps-1)\n",
    "        route = []\n",
    "        for page in range(self.graph.pages):\n",
    "            interaction = random.randint(0,self.graph.map[self.exp][page].size-1)\n",
    "            route.append(interaction)\n",
    "\n",
    "        return route\n",
    "               \n",
    "        \n",
    "    def calc_affinity(self,exp,page,interaction):\n",
    "        return self.graph.calc_affinity_score(exp,page,interaction)\n",
    "              \n",
    "    def clone_self(self):\n",
    "        new_copy = copy.deepcopy(self)\n",
    "        return new_copy\n",
    "         \n",
    "    def move(self):\n",
    " \n",
    "        while self.current_path != []:\n",
    "            self.current_path = self.new_path()\n",
    "            self.current_affinity = 0\n",
    "            for idx, interaction in enumerate(self.current_path):\n",
    "                self.current_affinity += self.calc_affinity(self.exp,idx,interaction)\n",
    " \n",
    "            if self.current_affinity < self.max_affinity:\n",
    "                clone = self.clone_self()\n",
    "                clone.move                \n",
    "            else:\n",
    "                break\n",
    "             \n",
    "        return self.current_affinity, self.current_path"
   ]
  },
  {
   "cell_type": "code",
   "execution_count": 450,
   "metadata": {},
   "outputs": [],
   "source": [
    "class immune:\n",
    "    def __init__(self, graph, iterations, starting_cells, max_affinity):\n",
    "        self.best_affinity =[]\n",
    "        self.max_affinity = max_affinity\n",
    "        self.iterations = iterations\n",
    "        self.starting_cells = starting_cells\n",
    "        self.path_list = []\n",
    "        self.graph = graph\n",
    "        self.cells = []  \n",
    "     \n",
    "            \n",
    "    def run(self):\n",
    "        for i in range(self.iterations):\n",
    "            \n",
    "            for j in range(0,self.starting_cells):\n",
    "                new_cell = bcell(self.graph, self.max_affinity)\n",
    "                self.cells.append(new_cell)\n",
    "            \n",
    "            for cell in self.cells:\n",
    "                affinity,path = cell.move()\n",
    "                self.path_list.append(path)\n",
    "                self.best_affinity.append(affinity)\n",
    "                \n",
    "        max_index = np.argmax(self.best_affinity)\n",
    "       \n",
    "        print (\"best affinity = \", self.best_affinity[max_index])\n",
    "        print (\"best path = \", self.path_list[max_index])"
   ]
  },
  {
   "cell_type": "code",
   "execution_count": 451,
   "metadata": {},
   "outputs": [
    {
     "name": "stdout",
     "output_type": "stream",
     "text": [
      "best affinity =  431\n",
      "best path =  [4, 2, 7, 3, 7, 0, 0, 8, 1, 2]\n",
      "--- 17.072441816329956 seconds ---\n"
     ]
    }
   ],
   "source": [
    "#Algorithm 3 (AIS)\n",
    "start_time = time.time()\n",
    "new_immune = immune(graph, iterations, populations, best_score)\n",
    "new_immune.run()\n",
    "print(\"--- %s seconds ---\" % (time.time() - start_time))"
   ]
  },
  {
   "cell_type": "code",
   "execution_count": null,
   "metadata": {},
   "outputs": [],
   "source": []
  }
 ],
 "metadata": {
  "kernelspec": {
   "display_name": "Python 3",
   "language": "python",
   "name": "python3"
  },
  "language_info": {
   "codemirror_mode": {
    "name": "ipython",
    "version": 3
   },
   "file_extension": ".py",
   "mimetype": "text/x-python",
   "name": "python",
   "nbconvert_exporter": "python",
   "pygments_lexer": "ipython3",
   "version": "3.7.4"
  }
 },
 "nbformat": 4,
 "nbformat_minor": 4
}
